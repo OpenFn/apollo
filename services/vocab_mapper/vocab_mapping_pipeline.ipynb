{
 "cells": [
  {
   "cell_type": "code",
   "execution_count": 1,
   "metadata": {},
   "outputs": [],
   "source": [
    "import os\n",
    "from dotenv import load_dotenv\n",
    "\n",
    "load_dotenv(override=True)\n",
    "OPENAI_API_KEY = os.getenv(\"OPENAI_API_KEY\")\n",
    "PINECONE_API_KEY = os.getenv(\"PINECONE_API_KEY\")\n",
    "ANTHROPIC_API_KEY = os.getenv(\"ANTHROPIC_API_KEY\")"
   ]
  },
  {
   "cell_type": "code",
   "execution_count": 2,
   "metadata": {},
   "outputs": [
    {
     "name": "stdout",
     "output_type": "stream",
     "text": [
      "/Users/hanna/openfn/ai_experiments/apollo/services\n"
     ]
    }
   ],
   "source": [
    "# set path for testing\n",
    "import sys\n",
    "import os\n",
    "parent_dir = os.path.abspath(\"../\")\n",
    "print(parent_dir)\n",
    "sys.path.append(parent_dir)"
   ]
  },
  {
   "cell_type": "code",
   "execution_count": 92,
   "metadata": {},
   "outputs": [],
   "source": [
    "from embeddings import snomed_store, loinc_store"
   ]
  },
  {
   "cell_type": "code",
   "execution_count": null,
   "metadata": {},
   "outputs": [],
   "source": [
    "from embeddings.embeddings import SearchResult"
   ]
  },
  {
   "cell_type": "code",
   "execution_count": 20,
   "metadata": {},
   "outputs": [],
   "source": [
    "snomed_store = snomed_store.connect_snomed()"
   ]
  },
  {
   "cell_type": "code",
   "execution_count": 93,
   "metadata": {},
   "outputs": [],
   "source": [
    "loinc_store = loinc_store.connect_loinc()"
   ]
  },
  {
   "cell_type": "code",
   "execution_count": 6,
   "metadata": {},
   "outputs": [
    {
     "name": "stderr",
     "output_type": "stream",
     "text": [
      "/var/folders/y3/tg4ts42x7bl1ty6zww9fx4bh0000gn/T/ipykernel_1923/3112543583.py:122: LangChainDeprecationWarning: The class `Pinecone` was deprecated in LangChain 0.0.3 and will be removed in 0.3.0. Use :class:`~PineconeVectorStore` instead.\n",
      "  store = self.VectorStoreClass(\n"
     ]
    },
    {
     "data": {
      "text/plain": [
       "[SearchResult(text='{\"Value Set Name\": \"Body Site Value Set\", \"Description\": \"Entire mucous membrane of nasal cavity and nasal sinus (body structure)\", \"Purpose: Clinical Focus\": \"All SNOMED CT anatomic structures, locations, abnormal structures that can be considered to describe an anatomical site.\"}', metadata={'Code': 736508000.0, 'Description': 'Entire mucous membrane of nasal cavity and nasal sinus (body structure)', 'Purpose: Clinical Focus': 'All SNOMED CT anatomic structures, locations, abnormal structures that can be considered to describe an anatomical site.', 'Value Set Name': 'Body Site Value Set'}, score=None),\n",
       " SearchResult(text='{\"Value Set Name\": \"Body Site Value Set\", \"Description\": \"Entire mucous membrane of nasal cavity and nasal sinus (body structure)\", \"Purpose: Clinical Focus\": \"All SNOMED CT anatomic structures, locations, abnormal structures that can be considered to describe an anatomical site.\"}', metadata={'Code': 736508000.0, 'Description': 'Entire mucous membrane of nasal cavity and nasal sinus (body structure)', 'Purpose: Clinical Focus': 'All SNOMED CT anatomic structures, locations, abnormal structures that can be considered to describe an anatomical site.', 'Value Set Name': 'Body Site Value Set'}, score=None)]"
      ]
     },
     "execution_count": 6,
     "metadata": {},
     "output_type": "execute_result"
    }
   ],
   "source": [
    "snomed_store.search(\"nasal\")"
   ]
  },
  {
   "cell_type": "code",
   "execution_count": 118,
   "metadata": {},
   "outputs": [
    {
     "name": "stderr",
     "output_type": "stream",
     "text": [
      "/var/folders/y3/tg4ts42x7bl1ty6zww9fx4bh0000gn/T/ipykernel_4572/1852639281.py:4: DtypeWarning: Columns (14) have mixed types. Specify dtype option on import or set low_memory=False.\n",
      "  df = pd.read_csv(\"/Users/hanna/openfn/ai_experiments/data/LOINC-Clinical-Terminology/LoincTableCore.csv\")\n"
     ]
    }
   ],
   "source": [
    "# import data to temporarily plug in missing metadata that will be in the vector store\n",
    "import pandas as pd\n",
    "\n",
    "df = pd.read_csv(\"/Users/hanna/openfn/ai_experiments/data/LOINC-Clinical-Terminology/LoincTableCore.csv\")\n",
    "loinc_num_dict = dict(zip(df.LONG_COMMON_NAME.to_list(), df.LOINC_NUM.to_list()))"
   ]
  },
  {
   "cell_type": "markdown",
   "metadata": {},
   "source": [
    "Pipeline for searching for approximate synonyms or other textual similarities"
   ]
  },
  {
   "cell_type": "markdown",
   "metadata": {},
   "source": [
    "Approach:\n",
    "Step 1: Use input term to search the vector store.\n",
    "Step 2: Use an LLM to pick one result from the search results. It will give its reasoning as well which could perhaps be consulted by the user.\n",
    "Step 3: Use an LLM to extract only the name from the Step 2 answer to select the full entry from the DB & use the correct code.\n",
    "\n",
    "\n",
    "Problems: \n",
    "- Some do not look similar. E.g. avpu_score should map to \"Level of responsiveness\" in LOINC\n",
    "    Possible solutions:\n",
    "    - Add another LLM step before the search. Could selectively add disambiguation.\n",
    "\n",
    "-The similarity search is biased against the simplest answer (e.g. hits \"Self-Reported Maximum Adult Height\" etc. not \"Body height\")\n",
    "    Possible solutions:\n",
    "    - check missing entries in db; try different search methods and thresholds/Ks"
   ]
  },
  {
   "cell_type": "code",
   "execution_count": 160,
   "metadata": {},
   "outputs": [
    {
     "data": {
      "text/plain": [
       "[SearchResult(text='{\"LONG_COMMON_NAME\": \"Papova virus SV 40 DNA [#/volume] (viral load) in Urine by NAA with probe detection\", \"METHOD_TYP\": \"Probe.amp.tar\", \"CLASS\": \"MICRO\", \"SYSTEM\": \"Urine\"}', metadata={'CLASS': 'MICRO', 'LONG_COMMON_NAME': 'Papova virus SV 40 DNA [#/volume] (viral load) in Urine by NAA with probe detection', 'METHOD_TYP': 'Probe.amp.tar', 'SYSTEM': 'Urine'}, score=None),\n",
       " SearchResult(text='{\"LONG_COMMON_NAME\": \"Parvovirus B19 DNA [#/volume] (viral load) in Upper respiratory specimen by NAA with probe detection\", \"METHOD_TYP\": \"Probe.amp.tar\", \"CLASS\": \"MICRO\", \"SYSTEM\": \"Respiratory.upper\"}', metadata={'CLASS': 'MICRO', 'LONG_COMMON_NAME': 'Parvovirus B19 DNA [#/volume] (viral load) in Upper respiratory specimen by NAA with probe detection', 'METHOD_TYP': 'Probe.amp.tar', 'SYSTEM': 'Respiratory.upper'}, score=None),\n",
       " SearchResult(text='{\"LONG_COMMON_NAME\": \"Papova virus SV 40 DNA [#/volume] (viral load) in Serum or Plasma by NAA with probe detection\", \"METHOD_TYP\": \"Probe.amp.tar\", \"CLASS\": \"MICRO\", \"SYSTEM\": \"Ser/Plas\"}', metadata={'CLASS': 'MICRO', 'LONG_COMMON_NAME': 'Papova virus SV 40 DNA [#/volume] (viral load) in Serum or Plasma by NAA with probe detection', 'METHOD_TYP': 'Probe.amp.tar', 'SYSTEM': 'Ser/Plas'}, score=None),\n",
       " SearchResult(text='{\"LONG_COMMON_NAME\": \"Parvovirus B19 DNA [Units/volume] (viral load) in Amniotic fluid by NAA with probe detection\", \"METHOD_TYP\": \"Probe.amp.tar\", \"CLASS\": \"MICRO\", \"SYSTEM\": \"Amnio fld\"}', metadata={'CLASS': 'MICRO', 'LONG_COMMON_NAME': 'Parvovirus B19 DNA [Units/volume] (viral load) in Amniotic fluid by NAA with probe detection', 'METHOD_TYP': 'Probe.amp.tar', 'SYSTEM': 'Amnio fld'}, score=None)]"
      ]
     },
     "execution_count": 160,
     "metadata": {},
     "output_type": "execute_result"
    }
   ],
   "source": [
    "input_query = \"avpu_score\"\n",
    "# input_query = \"hepatitis_b_result\"\n",
    "input_query = input_query.replace(\"_\", \" \")\n",
    "retreived_data = loinc_store.search(input_query, search_type=\"similarity_score_threshold\", search_kwargs={\"score_threshold\": 0.01})\n",
    "retreived_data\n"
   ]
  },
  {
   "cell_type": "code",
   "execution_count": 108,
   "metadata": {},
   "outputs": [
    {
     "data": {
      "text/plain": [
       "[SearchResult(text='{\"LONG_COMMON_NAME\": \"Hepatitis B virus e Ag [Presence] in Serum, Plasma or Blood by Rapid immunoassay\", \"METHOD_TYP\": \"IA.rapid\", \"CLASS\": \"MICRO\", \"SYSTEM\": \"Ser/Plas/Bld\"}', metadata={'CLASS': 'MICRO', 'LONG_COMMON_NAME': 'Hepatitis B virus e Ag [Presence] in Serum, Plasma or Blood by Rapid immunoassay', 'METHOD_TYP': 'IA.rapid', 'SYSTEM': 'Ser/Plas/Bld'}, score=None),\n",
       " SearchResult(text='{\"LONG_COMMON_NAME\": \"Hepatitis B virus surface Ab [Presence] in Serum, Plasma or Blood by Rapid immunoassay\", \"METHOD_TYP\": \"IA.rapid\", \"CLASS\": \"MICRO\", \"SYSTEM\": \"Ser/Plas/Bld\"}', metadata={'CLASS': 'MICRO', 'LONG_COMMON_NAME': 'Hepatitis B virus surface Ab [Presence] in Serum, Plasma or Blood by Rapid immunoassay', 'METHOD_TYP': 'IA.rapid', 'SYSTEM': 'Ser/Plas/Bld'}, score=None),\n",
       " SearchResult(text='{\"LONG_COMMON_NAME\": \"Hepatitis B virus e Ab [Presence] in Serum, Plasma or Blood by Rapid immunoassay\", \"METHOD_TYP\": \"IA.rapid\", \"CLASS\": \"MICRO\", \"SYSTEM\": \"Ser/Plas/Bld\"}', metadata={'CLASS': 'MICRO', 'LONG_COMMON_NAME': 'Hepatitis B virus e Ab [Presence] in Serum, Plasma or Blood by Rapid immunoassay', 'METHOD_TYP': 'IA.rapid', 'SYSTEM': 'Ser/Plas/Bld'}, score=None),\n",
       " SearchResult(text='{\"LONG_COMMON_NAME\": \"Hepatitis B virus surface Ag [Presence] in Serum, Plasma or Blood by Rapid immunoassay\", \"METHOD_TYP\": \"IA.rapid\", \"CLASS\": \"MICRO\", \"SYSTEM\": \"Ser/Plas/Bld\"}', metadata={'CLASS': 'MICRO', 'LONG_COMMON_NAME': 'Hepatitis B virus surface Ag [Presence] in Serum, Plasma or Blood by Rapid immunoassay', 'METHOD_TYP': 'IA.rapid', 'SYSTEM': 'Ser/Plas/Bld'}, score=None),\n",
       " SearchResult(text='{\"LONG_COMMON_NAME\": \"Hepatitis B virus core Ab [Presence] in Serum, Plasma or Blood by Rapid immunoassay\", \"METHOD_TYP\": \"IA.rapid\", \"CLASS\": \"MICRO\", \"SYSTEM\": \"Ser/Plas/Bld\"}', metadata={'CLASS': 'MICRO', 'LONG_COMMON_NAME': 'Hepatitis B virus core Ab [Presence] in Serum, Plasma or Blood by Rapid immunoassay', 'METHOD_TYP': 'IA.rapid', 'SYSTEM': 'Ser/Plas/Bld'}, score=None),\n",
       " SearchResult(text='{\"LONG_COMMON_NAME\": \"Hepatitis B virus core Ab [Presence] in Serum or Plasma by Immunoassay\", \"METHOD_TYP\": \"IA\", \"CLASS\": \"MICRO\", \"SYSTEM\": \"Ser/Plas\"}', metadata={'CLASS': 'MICRO', 'LONG_COMMON_NAME': 'Hepatitis B virus core Ab [Presence] in Serum or Plasma by Immunoassay', 'METHOD_TYP': 'IA', 'SYSTEM': 'Ser/Plas'}, score=None),\n",
       " SearchResult(text='{\"LONG_COMMON_NAME\": \"Hepatitis B virus core IgM Ab [Presence] in Serum or Plasma by Immunoassay\", \"METHOD_TYP\": \"IA\", \"CLASS\": \"MICRO\", \"SYSTEM\": \"Ser/Plas\"}', metadata={'CLASS': 'MICRO', 'LONG_COMMON_NAME': 'Hepatitis B virus core IgM Ab [Presence] in Serum or Plasma by Immunoassay', 'METHOD_TYP': 'IA', 'SYSTEM': 'Ser/Plas'}, score=None),\n",
       " SearchResult(text='{\"LONG_COMMON_NAME\": \"Hepatitis B virus core IgG+IgM Ab [Presence] in Serum or Plasma by Immunoassay\", \"METHOD_TYP\": \"IA\", \"CLASS\": \"MICRO\", \"SYSTEM\": \"Ser/Plas\"}', metadata={'CLASS': 'MICRO', 'LONG_COMMON_NAME': 'Hepatitis B virus core IgG+IgM Ab [Presence] in Serum or Plasma by Immunoassay', 'METHOD_TYP': 'IA', 'SYSTEM': 'Ser/Plas'}, score=None),\n",
       " SearchResult(text='{\"LONG_COMMON_NAME\": \"Hepatitis B virus e Ab [Presence] in Serum or Plasma by Immunoassay\", \"METHOD_TYP\": \"IA\", \"CLASS\": \"MICRO\", \"SYSTEM\": \"Ser/Plas\"}', metadata={'CLASS': 'MICRO', 'LONG_COMMON_NAME': 'Hepatitis B virus e Ab [Presence] in Serum or Plasma by Immunoassay', 'METHOD_TYP': 'IA', 'SYSTEM': 'Ser/Plas'}, score=None),\n",
       " SearchResult(text='{\"LONG_COMMON_NAME\": \"Hepatitis B virus surface Ag [Presence] in Serum or Plasma by Immunoassay\", \"METHOD_TYP\": \"IA\", \"CLASS\": \"MICRO\", \"SYSTEM\": \"Ser/Plas\"}', metadata={'CLASS': 'MICRO', 'LONG_COMMON_NAME': 'Hepatitis B virus surface Ag [Presence] in Serum or Plasma by Immunoassay', 'METHOD_TYP': 'IA', 'SYSTEM': 'Ser/Plas'}, score=None),\n",
       " SearchResult(text='{\"LONG_COMMON_NAME\": \"Hepatitis B virus surface Ab [Units/volume] in Serum or Plasma by Immunoassay\", \"METHOD_TYP\": \"IA\", \"CLASS\": \"MICRO\", \"SYSTEM\": \"Ser/Plas\"}', metadata={'CLASS': 'MICRO', 'LONG_COMMON_NAME': 'Hepatitis B virus surface Ab [Units/volume] in Serum or Plasma by Immunoassay', 'METHOD_TYP': 'IA', 'SYSTEM': 'Ser/Plas'}, score=None),\n",
       " SearchResult(text='{\"LONG_COMMON_NAME\": \"Hepatitis B virus e Ag [Presence] in Serum or Plasma by Immunoassay\", \"METHOD_TYP\": \"IA\", \"CLASS\": \"MICRO\", \"SYSTEM\": \"Ser/Plas\"}', metadata={'CLASS': 'MICRO', 'LONG_COMMON_NAME': 'Hepatitis B virus e Ag [Presence] in Serum or Plasma by Immunoassay', 'METHOD_TYP': 'IA', 'SYSTEM': 'Ser/Plas'}, score=None),\n",
       " SearchResult(text='{\"LONG_COMMON_NAME\": \"Hepatitis B virus e IgG Ab [Presence] in Serum by Immunoassay\", \"METHOD_TYP\": \"IA\", \"CLASS\": \"MICRO\", \"SYSTEM\": \"Ser\"}', metadata={'CLASS': 'MICRO', 'LONG_COMMON_NAME': 'Hepatitis B virus e IgG Ab [Presence] in Serum by Immunoassay', 'METHOD_TYP': 'IA', 'SYSTEM': 'Ser'}, score=None),\n",
       " SearchResult(text='{\"LONG_COMMON_NAME\": \"Hepatitis C virus IgG band pattern [Interpretation] in Serum by Immunoblot\", \"METHOD_TYP\": \"IB\", \"CLASS\": \"MICRO\", \"SYSTEM\": \"Ser\"}', metadata={'CLASS': 'MICRO', 'LONG_COMMON_NAME': 'Hepatitis C virus IgG band pattern [Interpretation] in Serum by Immunoblot', 'METHOD_TYP': 'IB', 'SYSTEM': 'Ser'}, score=None),\n",
       " SearchResult(text='{\"LONG_COMMON_NAME\": \"Hepatitis B virus e IgG Ab [Presence] in Serum\", \"METHOD_TYP\": \"\", \"CLASS\": \"MICRO\", \"SYSTEM\": \"Ser\"}', metadata={'CLASS': 'MICRO', 'LONG_COMMON_NAME': 'Hepatitis B virus e IgG Ab [Presence] in Serum', 'METHOD_TYP': '', 'SYSTEM': 'Ser'}, score=None),\n",
       " SearchResult(text='{\"LONG_COMMON_NAME\": \"Hepatitis B virus surface Ag [Units/volume] in Serum or Plasma by Immunoassay\", \"METHOD_TYP\": \"IA\", \"CLASS\": \"MICRO\", \"SYSTEM\": \"Ser/Plas\"}', metadata={'CLASS': 'MICRO', 'LONG_COMMON_NAME': 'Hepatitis B virus surface Ag [Units/volume] in Serum or Plasma by Immunoassay', 'METHOD_TYP': 'IA', 'SYSTEM': 'Ser/Plas'}, score=None),\n",
       " SearchResult(text='{\"LONG_COMMON_NAME\": \"Hepatitis B virus surface Ag [Presence] in Serum or Plasma by Neutralization test\", \"METHOD_TYP\": \"Neut\", \"CLASS\": \"MICRO\", \"SYSTEM\": \"Ser/Plas\"}', metadata={'CLASS': 'MICRO', 'LONG_COMMON_NAME': 'Hepatitis B virus surface Ag [Presence] in Serum or Plasma by Neutralization test', 'METHOD_TYP': 'Neut', 'SYSTEM': 'Ser/Plas'}, score=None),\n",
       " SearchResult(text='{\"LONG_COMMON_NAME\": \"Hepatitis B virus core IgG Ab [Presence] in Serum by Immunoassay\", \"METHOD_TYP\": \"IA\", \"CLASS\": \"MICRO\", \"SYSTEM\": \"Ser\"}', metadata={'CLASS': 'MICRO', 'LONG_COMMON_NAME': 'Hepatitis B virus core IgG Ab [Presence] in Serum by Immunoassay', 'METHOD_TYP': 'IA', 'SYSTEM': 'Ser'}, score=None),\n",
       " SearchResult(text='{\"LONG_COMMON_NAME\": \"Hepatitis B virus surface IgG Ab [Presence] in Serum by Immunoassay\", \"METHOD_TYP\": \"IA\", \"CLASS\": \"MICRO\", \"SYSTEM\": \"Ser\"}', metadata={'CLASS': 'MICRO', 'LONG_COMMON_NAME': 'Hepatitis B virus surface IgG Ab [Presence] in Serum by Immunoassay', 'METHOD_TYP': 'IA', 'SYSTEM': 'Ser'}, score=None),\n",
       " SearchResult(text='{\"LONG_COMMON_NAME\": \"Hepatitis B virus core IgM Ab [Units/volume] in Serum or Plasma by Immunoassay\", \"METHOD_TYP\": \"IA\", \"CLASS\": \"MICRO\", \"SYSTEM\": \"Ser/Plas\"}', metadata={'CLASS': 'MICRO', 'LONG_COMMON_NAME': 'Hepatitis B virus core IgM Ab [Units/volume] in Serum or Plasma by Immunoassay', 'METHOD_TYP': 'IA', 'SYSTEM': 'Ser/Plas'}, score=None),\n",
       " SearchResult(text='{\"LONG_COMMON_NAME\": \"Hepatitis B virus surface Ag [log units/volume] in Serum or Plasma by Immunoassay\", \"METHOD_TYP\": \"IA\", \"CLASS\": \"MICRO\", \"SYSTEM\": \"Ser/Plas\"}', metadata={'CLASS': 'MICRO', 'LONG_COMMON_NAME': 'Hepatitis B virus surface Ag [log units/volume] in Serum or Plasma by Immunoassay', 'METHOD_TYP': 'IA', 'SYSTEM': 'Ser/Plas'}, score=None),\n",
       " SearchResult(text='{\"LONG_COMMON_NAME\": \"Hepatitis B virus surface Ab [Presence] in Serum by Immunoassay\", \"METHOD_TYP\": \"IA\", \"CLASS\": \"MICRO\", \"SYSTEM\": \"Ser\"}', metadata={'CLASS': 'MICRO', 'LONG_COMMON_NAME': 'Hepatitis B virus surface Ab [Presence] in Serum by Immunoassay', 'METHOD_TYP': 'IA', 'SYSTEM': 'Ser'}, score=None),\n",
       " SearchResult(text='{\"LONG_COMMON_NAME\": \"Hepatitis C virus 100+5-1-1 Ab [Presence] in Serum by Immunoblot\", \"METHOD_TYP\": \"IB\", \"CLASS\": \"MICRO\", \"SYSTEM\": \"Ser\"}', metadata={'CLASS': 'MICRO', 'LONG_COMMON_NAME': 'Hepatitis C virus 100+5-1-1 Ab [Presence] in Serum by Immunoblot', 'METHOD_TYP': 'IB', 'SYSTEM': 'Ser'}, score=None),\n",
       " SearchResult(text='{\"LONG_COMMON_NAME\": \"Hepatitis B virus surface Ag [Presence] in Serum or Plasma by Confirmatory method\", \"METHOD_TYP\": \"Confirm\", \"CLASS\": \"MICRO\", \"SYSTEM\": \"Ser/Plas\"}', metadata={'CLASS': 'MICRO', 'LONG_COMMON_NAME': 'Hepatitis B virus surface Ag [Presence] in Serum or Plasma by Confirmatory method', 'METHOD_TYP': 'Confirm', 'SYSTEM': 'Ser/Plas'}, score=None),\n",
       " SearchResult(text='{\"LONG_COMMON_NAME\": \"Hepatitis C virus IgG Ab [Presence] in Serum, Plasma or Blood by Rapid immunoassay\", \"METHOD_TYP\": \"IA.rapid\", \"CLASS\": \"MICRO\", \"SYSTEM\": \"Ser/Plas/Bld\"}', metadata={'CLASS': 'MICRO', 'LONG_COMMON_NAME': 'Hepatitis C virus IgG Ab [Presence] in Serum, Plasma or Blood by Rapid immunoassay', 'METHOD_TYP': 'IA.rapid', 'SYSTEM': 'Ser/Plas/Bld'}, score=None),\n",
       " SearchResult(text='{\"LONG_COMMON_NAME\": \"Hepatitis B virus surface IgG Ab [Presence] in Serum\", \"METHOD_TYP\": \"\", \"CLASS\": \"MICRO\", \"SYSTEM\": \"Ser\"}', metadata={'CLASS': 'MICRO', 'LONG_COMMON_NAME': 'Hepatitis B virus surface IgG Ab [Presence] in Serum', 'METHOD_TYP': '', 'SYSTEM': 'Ser'}, score=None),\n",
       " SearchResult(text='{\"LONG_COMMON_NAME\": \"Hepatitis C virus c22p Ab [Presence] in Serum by Immunoblot\", \"METHOD_TYP\": \"IB\", \"CLASS\": \"MICRO\", \"SYSTEM\": \"Ser\"}', metadata={'CLASS': 'MICRO', 'LONG_COMMON_NAME': 'Hepatitis C virus c22p Ab [Presence] in Serum by Immunoblot', 'METHOD_TYP': 'IB', 'SYSTEM': 'Ser'}, score=None),\n",
       " SearchResult(text='{\"LONG_COMMON_NAME\": \"Hepatitis B virus core Ab [Presence] in Serum from Donor by Immunoassay\", \"METHOD_TYP\": \"IA\", \"CLASS\": \"MICRO\", \"SYSTEM\": \"Ser^Donor\"}', metadata={'CLASS': 'MICRO', 'LONG_COMMON_NAME': 'Hepatitis B virus core Ab [Presence] in Serum from Donor by Immunoassay', 'METHOD_TYP': 'IA', 'SYSTEM': 'Ser^Donor'}, score=None),\n",
       " SearchResult(text='{\"LONG_COMMON_NAME\": \"Hepatitis B virus e Ab [Units/volume] in Serum by Immunoassay\", \"METHOD_TYP\": \"IA\", \"CLASS\": \"MICRO\", \"SYSTEM\": \"Ser\"}', metadata={'CLASS': 'MICRO', 'LONG_COMMON_NAME': 'Hepatitis B virus e Ab [Units/volume] in Serum by Immunoassay', 'METHOD_TYP': 'IA', 'SYSTEM': 'Ser'}, score=None),\n",
       " SearchResult(text='{\"LONG_COMMON_NAME\": \"Hepatitis B virus core IgG Ab [Presence] in Serum\", \"METHOD_TYP\": \"\", \"CLASS\": \"MICRO\", \"SYSTEM\": \"Ser\"}', metadata={'CLASS': 'MICRO', 'LONG_COMMON_NAME': 'Hepatitis B virus core IgG Ab [Presence] in Serum', 'METHOD_TYP': '', 'SYSTEM': 'Ser'}, score=None),\n",
       " SearchResult(text='{\"LONG_COMMON_NAME\": \"Hepatitis B virus surface Ag [Presence] in Blood from Donor by Neutralization test\", \"METHOD_TYP\": \"Neut\", \"CLASS\": \"MICRO\", \"SYSTEM\": \"Bld^Donor\"}', metadata={'CLASS': 'MICRO', 'LONG_COMMON_NAME': 'Hepatitis B virus surface Ag [Presence] in Blood from Donor by Neutralization test', 'METHOD_TYP': 'Neut', 'SYSTEM': 'Bld^Donor'}, score=None),\n",
       " SearchResult(text='{\"LONG_COMMON_NAME\": \"Hepatitis C virus Ab [Presence] in Serum, Plasma or Blood by Rapid immunoassay\", \"METHOD_TYP\": \"IA.rapid\", \"CLASS\": \"MICRO\", \"SYSTEM\": \"Ser/Plas/Bld\"}', metadata={'CLASS': 'MICRO', 'LONG_COMMON_NAME': 'Hepatitis C virus Ab [Presence] in Serum, Plasma or Blood by Rapid immunoassay', 'METHOD_TYP': 'IA.rapid', 'SYSTEM': 'Ser/Plas/Bld'}, score=None),\n",
       " SearchResult(text='{\"LONG_COMMON_NAME\": \"Hepatitis B virus core IgM Ab [Units/volume] in Serum by Radioimmunoassay (RIA)\", \"METHOD_TYP\": \"RIA\", \"CLASS\": \"MICRO\", \"SYSTEM\": \"Ser\"}', metadata={'CLASS': 'MICRO', 'LONG_COMMON_NAME': 'Hepatitis B virus core IgM Ab [Units/volume] in Serum by Radioimmunoassay (RIA)', 'METHOD_TYP': 'RIA', 'SYSTEM': 'Ser'}, score=None),\n",
       " SearchResult(text='{\"LONG_COMMON_NAME\": \"Hepatitis B virus e Ab [Presence] in Serum\", \"METHOD_TYP\": \"\", \"CLASS\": \"MICRO\", \"SYSTEM\": \"Ser\"}', metadata={'CLASS': 'MICRO', 'LONG_COMMON_NAME': 'Hepatitis B virus e Ab [Presence] in Serum', 'METHOD_TYP': '', 'SYSTEM': 'Ser'}, score=None),\n",
       " SearchResult(text='{\"LONG_COMMON_NAME\": \"Hepatitis B virus surface Ag [Presence] in Tissue by Immune stain\", \"METHOD_TYP\": \"Immune stain\", \"CLASS\": \"MICRO\", \"SYSTEM\": \"Tiss\"}', metadata={'CLASS': 'MICRO', 'LONG_COMMON_NAME': 'Hepatitis B virus surface Ag [Presence] in Tissue by Immune stain', 'METHOD_TYP': 'Immune stain', 'SYSTEM': 'Tiss'}, score=None),\n",
       " SearchResult(text='{\"LONG_COMMON_NAME\": \"Hepatitis B virus surface Ab [Presence] in Serum by Radioimmunoassay (RIA)\", \"METHOD_TYP\": \"RIA\", \"CLASS\": \"MICRO\", \"SYSTEM\": \"Ser\"}', metadata={'CLASS': 'MICRO', 'LONG_COMMON_NAME': 'Hepatitis B virus surface Ab [Presence] in Serum by Radioimmunoassay (RIA)', 'METHOD_TYP': 'RIA', 'SYSTEM': 'Ser'}, score=None),\n",
       " SearchResult(text='{\"LONG_COMMON_NAME\": \"Hepatitis C virus Ab band pattern [Interpretation] in Serum by Immunoblot\", \"METHOD_TYP\": \"IB\", \"CLASS\": \"MICRO\", \"SYSTEM\": \"Ser\"}', metadata={'CLASS': 'MICRO', 'LONG_COMMON_NAME': 'Hepatitis C virus Ab band pattern [Interpretation] in Serum by Immunoblot', 'METHOD_TYP': 'IB', 'SYSTEM': 'Ser'}, score=None),\n",
       " SearchResult(text='{\"LONG_COMMON_NAME\": \"Hepatitis C virus c33c Ab [Presence] in Serum by Immunoblot\", \"METHOD_TYP\": \"IB\", \"CLASS\": \"MICRO\", \"SYSTEM\": \"Ser\"}', metadata={'CLASS': 'MICRO', 'LONG_COMMON_NAME': 'Hepatitis C virus c33c Ab [Presence] in Serum by Immunoblot', 'METHOD_TYP': 'IB', 'SYSTEM': 'Ser'}, score=None),\n",
       " SearchResult(text='{\"LONG_COMMON_NAME\": \"Hepatitis B virus core IgG Ab [Units/volume] in Serum by Immunoassay\", \"METHOD_TYP\": \"IA\", \"CLASS\": \"MICRO\", \"SYSTEM\": \"Ser\"}', metadata={'CLASS': 'MICRO', 'LONG_COMMON_NAME': 'Hepatitis B virus core IgG Ab [Units/volume] in Serum by Immunoassay', 'METHOD_TYP': 'IA', 'SYSTEM': 'Ser'}, score=None),\n",
       " SearchResult(text='{\"LONG_COMMON_NAME\": \"Hepatitis B virus surface Ab [Presence] in Serum\", \"METHOD_TYP\": \"\", \"CLASS\": \"MICRO\", \"SYSTEM\": \"Ser\"}', metadata={'CLASS': 'MICRO', 'LONG_COMMON_NAME': 'Hepatitis B virus surface Ab [Presence] in Serum', 'METHOD_TYP': '', 'SYSTEM': 'Ser'}, score=None),\n",
       " SearchResult(text='{\"LONG_COMMON_NAME\": \"Hepatitis B virus core Ag [Presence] in Tissue by Immune stain\", \"METHOD_TYP\": \"Immune stain\", \"CLASS\": \"MICRO\", \"SYSTEM\": \"Tiss\"}', metadata={'CLASS': 'MICRO', 'LONG_COMMON_NAME': 'Hepatitis B virus core Ag [Presence] in Tissue by Immune stain', 'METHOD_TYP': 'Immune stain', 'SYSTEM': 'Tiss'}, score=None),\n",
       " SearchResult(text='{\"LONG_COMMON_NAME\": \"Hepatitis B virus surface Ag [Presence] in Serum from Donor by Immunoassay\", \"METHOD_TYP\": \"IA\", \"CLASS\": \"MICRO\", \"SYSTEM\": \"Ser^Donor\"}', metadata={'CLASS': 'MICRO', 'LONG_COMMON_NAME': 'Hepatitis B virus surface Ag [Presence] in Serum from Donor by Immunoassay', 'METHOD_TYP': 'IA', 'SYSTEM': 'Ser^Donor'}, score=None),\n",
       " SearchResult(text='{\"LONG_COMMON_NAME\": \"Hepatitis B virus core Ab [Presence] in Serum\", \"METHOD_TYP\": \"\", \"CLASS\": \"MICRO\", \"SYSTEM\": \"Ser\"}', metadata={'CLASS': 'MICRO', 'LONG_COMMON_NAME': 'Hepatitis B virus core Ab [Presence] in Serum', 'METHOD_TYP': '', 'SYSTEM': 'Ser'}, score=None),\n",
       " SearchResult(text='{\"LONG_COMMON_NAME\": \"Hepatitis B virus core Ab [Units/volume] in Serum by Immunoassay\", \"METHOD_TYP\": \"IA\", \"CLASS\": \"MICRO\", \"SYSTEM\": \"Ser\"}', metadata={'CLASS': 'MICRO', 'LONG_COMMON_NAME': 'Hepatitis B virus core Ab [Units/volume] in Serum by Immunoassay', 'METHOD_TYP': 'IA', 'SYSTEM': 'Ser'}, score=None),\n",
       " SearchResult(text='{\"LONG_COMMON_NAME\": \"Hepatitis C virus 5-1-1 Ab [Presence] in Serum by Immunoblot\", \"METHOD_TYP\": \"IB\", \"CLASS\": \"MICRO\", \"SYSTEM\": \"Ser\"}', metadata={'CLASS': 'MICRO', 'LONG_COMMON_NAME': 'Hepatitis C virus 5-1-1 Ab [Presence] in Serum by Immunoblot', 'METHOD_TYP': 'IB', 'SYSTEM': 'Ser'}, score=None),\n",
       " SearchResult(text='{\"LONG_COMMON_NAME\": \"Hepatitis B virus core IgM Ab [Presence] in Serum\", \"METHOD_TYP\": \"\", \"CLASS\": \"MICRO\", \"SYSTEM\": \"Ser\"}', metadata={'CLASS': 'MICRO', 'LONG_COMMON_NAME': 'Hepatitis B virus core IgM Ab [Presence] in Serum', 'METHOD_TYP': '', 'SYSTEM': 'Ser'}, score=None),\n",
       " SearchResult(text='{\"LONG_COMMON_NAME\": \"Hepatitis B virus e Ag [Presence] in Serum by Radioimmunoassay (RIA)\", \"METHOD_TYP\": \"RIA\", \"CLASS\": \"MICRO\", \"SYSTEM\": \"Ser\"}', metadata={'CLASS': 'MICRO', 'LONG_COMMON_NAME': 'Hepatitis B virus e Ag [Presence] in Serum by Radioimmunoassay (RIA)', 'METHOD_TYP': 'RIA', 'SYSTEM': 'Ser'}, score=None),\n",
       " SearchResult(text='{\"LONG_COMMON_NAME\": \"Hepatitis B virus DNA [Mass/volume] (viral load) in Serum by Probe with signal amplification\", \"METHOD_TYP\": \"Probe.amp.sig\", \"CLASS\": \"MICRO\", \"SYSTEM\": \"Ser\"}', metadata={'CLASS': 'MICRO', 'LONG_COMMON_NAME': 'Hepatitis B virus DNA [Mass/volume] (viral load) in Serum by Probe with signal amplification', 'METHOD_TYP': 'Probe.amp.sig', 'SYSTEM': 'Ser'}, score=None),\n",
       " SearchResult(text='{\"LONG_COMMON_NAME\": \"Hepatitis C virus IgG Ab [Presence] in Serum or Plasma by Immunoassay\", \"METHOD_TYP\": \"IA\", \"CLASS\": \"MICRO\", \"SYSTEM\": \"Ser/Plas\"}', metadata={'CLASS': 'MICRO', 'LONG_COMMON_NAME': 'Hepatitis C virus IgG Ab [Presence] in Serum or Plasma by Immunoassay', 'METHOD_TYP': 'IA', 'SYSTEM': 'Ser/Plas'}, score=None),\n",
       " SearchResult(text='{\"LONG_COMMON_NAME\": \"Hepatitis B virus surface Ab [Units/volume] in Serum by Radioimmunoassay (RIA)\", \"METHOD_TYP\": \"RIA\", \"CLASS\": \"MICRO\", \"SYSTEM\": \"Ser\"}', metadata={'CLASS': 'MICRO', 'LONG_COMMON_NAME': 'Hepatitis B virus surface Ab [Units/volume] in Serum by Radioimmunoassay (RIA)', 'METHOD_TYP': 'RIA', 'SYSTEM': 'Ser'}, score=None)]"
      ]
     },
     "execution_count": 108,
     "metadata": {},
     "output_type": "execute_result"
    }
   ],
   "source": [
    "retreived_data = loinc_store.search(input_query, search_kwargs={\"k\": 50})\n",
    "retreived_data"
   ]
  },
  {
   "cell_type": "code",
   "execution_count": null,
   "metadata": {},
   "outputs": [],
   "source": [
    "# TODO missing metadata in LOINC - codes\n",
    "# TODO add missing sections to snomed emebddings\n",
    "# TODO check all terms are def in embeddings. Spot cheet respiratory rate 9279-1\n",
    "# TODO maybe pick threshold first, if not enough results use top k"
   ]
  },
  {
   "cell_type": "code",
   "execution_count": null,
   "metadata": {},
   "outputs": [],
   "source": [
    "synonym_system_prompt = \"\"\"\n",
    "You are an assisstant for matching fields between health record systems. \n",
    "You will be given a source text, and a set of candidate\n",
    "target records to pick from. Pick only one target record.\n",
    "\"\"\"\n",
    "\n",
    "synonym_user_prompt = \"\"\"\n",
    "Source text to search for: \"{input_text}\"\n",
    "\n",
    "Here are the candidate target health record fields:\n",
    "\n",
    "\"{retreived_data}\"\n",
    "\"\"\""
   ]
  },
  {
   "cell_type": "code",
   "execution_count": 144,
   "metadata": {},
   "outputs": [],
   "source": [
    "synonym_user_prompt_formatted = synonym_user_prompt.format(input_text=input_query, retreived_data=retreived_data)\n"
   ]
  },
  {
   "cell_type": "code",
   "execution_count": 145,
   "metadata": {},
   "outputs": [
    {
     "data": {
      "text/plain": [
       "'For the source text \"hepatitis b result\", I would select the following target record:\\n\\n{\"LONG_COMMON_NAME\": \"Hepatitis B virus surface Ag [Presence] in Serum, Plasma or Blood by Rapid immunoassay\", \"METHOD_TYP\": \"IA.rapid\", \"CLASS\": \"MICRO\", \"SYSTEM\": \"Ser/Plas/Bld\"}\\n\\nRationale:\\n- The surface antigen (HBsAg) test is typically the first and most basic screening test for hepatitis B infection\\n- When someone refers to a general \"hepatitis B result\" without specifying which marker, the surface antigen test is most commonly meant\\n- The other options test for specific antibodies (Ab) or e antigen, which are more specialized markers\\n- Surface antigen testing is considered the primary test for detecting hepatitis B infection'"
      ]
     },
     "execution_count": 145,
     "metadata": {},
     "output_type": "execute_result"
    }
   ],
   "source": [
    "message = client.messages.create(\n",
    "    model= \"claude-3-5-sonnet-20241022\", #\"claude-3-5-sonnet-20241022\", #claude-3-5-haiku-20241022\n",
    "    max_tokens=500,\n",
    "    temperature=0,\n",
    "    system=synonym_system_prompt,\n",
    "    messages=[\n",
    "        {\n",
    "            \"role\": \"user\",\n",
    "            \"content\": [\n",
    "                {\n",
    "                    \"type\": \"text\",\n",
    "                    \"text\": synonym_user_prompt_formatted\n",
    "                }\n",
    "            ]\n",
    "        }\n",
    "    ]\n",
    ")\n",
    "answer = message.content[0].text\n",
    "answer"
   ]
  },
  {
   "cell_type": "markdown",
   "metadata": {},
   "source": [
    "Synonym approach 2) Guess & Search\n",
    "\n",
    "This approach aims to address the problems noted above the first method (when input texts do not look at all like the output). Leverage the LLM's in-built intuition for clinical terminology.\n",
    "\n",
    "Step 1 - Use LLM to output the LOINC text\n",
    "Step 2 - Use the text from the LLM output to search for the entry. (option b if we see issues: use both original query + the LLM output to search the db)"
   ]
  },
  {
   "cell_type": "code",
   "execution_count": 170,
   "metadata": {},
   "outputs": [],
   "source": [
    "synonym_expand_system_prompt = \"\"\"\n",
    "You are an assisstant for matching terminology between health record systems. \n",
    "You will be given a source text from one health system, which might be in another language.\n",
    "You should output its equivalent name (the long name, not the code) in LOINC clinical terminology with no further explanation.\n",
    "\"\"\"\n",
    "\n",
    "synonym_expand_user_prompt = \"\"\"\n",
    "Source text to output a LOINC term for: \"{input_text}\"\n",
    "\"\"\""
   ]
  },
  {
   "cell_type": "code",
   "execution_count": 244,
   "metadata": {},
   "outputs": [],
   "source": [
    "synonym_expand_select_system_prompt = \"\"\"\n",
    "You are an assisstant for matching terminology between health record systems. \n",
    "You will be given a LOINC entry to look for in a list of similar records. You will also be given the original soruce term for context.\n",
    "You should select the correct LOINC entry from the options and output just the LONG_COMMON_NAME and the LOINC_NUMBER separated by a semicolon.\n",
    "\"\"\"\n",
    "\n",
    "synonym_expand_select_user_prompt = \"\"\"\n",
    "Original source term for context: {input_text}\n",
    "LOINC entry to look for: {LLM_guess}\n",
    "LOINC entries to select from: \"{retreived_texts}\"\n",
    "\"\"\""
   ]
  },
  {
   "cell_type": "code",
   "execution_count": 252,
   "metadata": {},
   "outputs": [
    {
     "name": "stdout",
     "output_type": "stream",
     "text": [
      "LLM guess for the CT: Malaria rapid diagnostic test\n"
     ]
    },
    {
     "data": {
      "text/plain": [
       "'Plasmodium sp Ag [Identifier] in Blood by Rapid immunoassay;70569-9'"
      ]
     },
     "execution_count": 252,
     "metadata": {},
     "output_type": "execute_result"
    }
   ],
   "source": [
    "# use LLM to get input text CT synonym then search vector store. Also add hybrid search.\n",
    "input_query = \"malaria_RDT_result\"\n",
    "\n",
    "synonym_expand_user_prompt_formatted = synonym_expand_user_prompt.format(input_text=input_query)\n",
    "message = client.messages.create(\n",
    "    model= \"claude-3-5-sonnet-20241022\", #\"claude-3-5-sonnet-20241022\", #claude-3-5-haiku-20241022\n",
    "    max_tokens=500,\n",
    "    temperature=0,\n",
    "    system=synonym_expand_system_prompt,\n",
    "    messages=[\n",
    "        {\n",
    "            \"role\": \"user\",\n",
    "            \"content\": [\n",
    "                {\n",
    "                    \"type\": \"text\",\n",
    "                    \"text\": synonym_expand_user_prompt_formatted\n",
    "                }\n",
    "            ]\n",
    "        }\n",
    "    ]\n",
    ")\n",
    "synonym_expand_answer = message.content[0].text\n",
    "print(f\"LLM guess for the CT: {synonym_expand_answer}\")\n",
    "synonym_expand_retreived_data = loinc_store.search(input_query, search_kwargs={\"k\": 100})\n",
    "\n",
    "# add keyword search to conduct hybrid search\n",
    "keyword_search_results = df[df[\"LONG_COMMON_NAME\"].str.contains(synonym_expand_answer)].LONG_COMMON_NAME.to_list()\n",
    "keyword_search_results = [SearchResult(text=json.dumps({\"LONG_COMMON_NAME\": s}), metadata={}, score=None) for s in keyword_search_results]\n",
    "search_results_combined = keyword_search_results+synonym_expand_retreived_data\n",
    "\n",
    "# temp fix for missing loinc numbers\n",
    "search_results_combined = [SearchResult(text=r.text, metadata={**r.metadata, 'LOINC_NUMBER': loinc_num_dict.get(json.loads(r.text)['LONG_COMMON_NAME'])}, score=r.score) for r in search_results_combined]\n",
    "\n",
    "# tried this rule-based retreival, but there are unexpected issues e.g. \"Body height\" hits \"Body height Mother\"\n",
    "# final_search_result = \"\"\n",
    "# for search_result in synonym_expand_retreived_data:\n",
    "#     if synonym_expand_answer in search_result.metadata[\"LONG_COMMON_NAME\"]:\n",
    "#         final_search_result = (search_result, loinc_num_dict[search_result.metadata[\"LONG_COMMON_NAME\"]])\n",
    "# final_search_result\n",
    "\n",
    "synonym_expand_select_user_prompt_formatted = synonym_expand_select_user_prompt.format(input_text=input_query, LLM_guess=synonym_expand_answer, retreived_texts=search_results_combined)\n",
    "message = client.messages.create(\n",
    "    model= \"claude-3-5-sonnet-20241022\", #\"claude-3-5-sonnet-20241022\", #claude-3-5-haiku-20241022\n",
    "    max_tokens=500,\n",
    "    temperature=0,\n",
    "    system=synonym_expand_select_system_prompt,\n",
    "    messages=[\n",
    "        {\n",
    "            \"role\": \"user\",\n",
    "            \"content\": [\n",
    "                {\n",
    "                    \"type\": \"text\",\n",
    "                    \"text\": synonym_expand_select_user_prompt_formatted\n",
    "                }\n",
    "            ]\n",
    "        }\n",
    "    ]\n",
    ")\n",
    "synonym_expand_select_answer = message.content[0].text\n",
    "synonym_expand_select_answer"
   ]
  },
  {
   "cell_type": "code",
   "execution_count": null,
   "metadata": {},
   "outputs": [],
   "source": [
    "# # remove additional text if LLM included it\n",
    "# synonym_expand_select_answer = synonym_expand_select_answer.replace('{\"LONG_COMMON_NAME\": \"', '').replace('\"}', '')\n",
    "# final_search_result = \"\"\n",
    "# for search_result in synonym_expand_retreived_data:\n",
    "#     if synonym_expand_select_answer in search_result.metadata[\"LONG_COMMON_NAME\"]:\n",
    "#         final_search_result = (search_result, loinc_num_dict[search_result.metadata[\"LONG_COMMON_NAME\"]])\n",
    "# final_search_result"
   ]
  },
  {
   "cell_type": "markdown",
   "metadata": {},
   "source": [
    "Need to test more inputs to understand pros and cons of each approach."
   ]
  },
  {
   "cell_type": "markdown",
   "metadata": {},
   "source": [
    "Pipeline for searching for a body site (NOT synonym)"
   ]
  },
  {
   "cell_type": "markdown",
   "metadata": {},
   "source": [
    "Searching for the correct body site for a diagnosis or process presents a different kind of problem from searching for a similar term (the mapping issue above). We cannot use RAG directly, because the input an output will not be \"similar\".\n",
    "\n",
    "- - -\n",
    "\n",
    "The tested method will use the following steps to try and generate a body site:\n",
    "\n",
    "Step 1: Use an LLM to directly guess the correct SNOMED body site. From previous experiments with ChatGPT, we found that the clinical term is often accurate, but the code will be hallucinated.\n",
    "\n",
    "Step 2: Use the LLM output from step 1 to search the SNOMED terms using a similarity search (remove digits from the answer; filter for body site). Take the top 1 match. The code field in the metadata is our SNOMED body site code output. We use \n",
    "\n",
    "- - -\n",
    "Problem: There are a lot of (reasonable) errors in the output. Not sure if the answers require contextual knowledge of the conventions of the specific health record system in use, or medical knowledge. Or, are there many correct outputs in some cases?"
   ]
  },
  {
   "cell_type": "markdown",
   "metadata": {},
   "source": [
    "Errors found:\n",
    "\n",
    "migraine -> head (nervous system)\n",
    "constipation -> large intestine (intestinal system)\n",
    "hypokalaemia -> Blood (Structure of cardiovascular system)\n",
    "Depressive_episode,_unspecified -> Brain structure (Central nervous system)  [note that e.g. bipolar and schizophrenia are brain structure]"
   ]
  },
  {
   "cell_type": "code",
   "execution_count": 73,
   "metadata": {},
   "outputs": [],
   "source": [
    "body_site_step_1_system_prompt = \"\"\"\n",
    "You are an assistant for tagging diagnoses and processes in health records with\n",
    "the correct body sites as defined in SNOMED Clinical Terminology.\n",
    "You will be given an input text from a health record. \n",
    "Simply state the SNOMED body site term for the input.\n",
    "\"\"\"\n",
    "# \n",
    "body_site_step_1_user_prompt = \"\"\"\n",
    "Input to return a body site for: \"{input_text}\"\n",
    "\"\"\"\n",
    "\n",
    "body_site_step_1_user_prompt_formatted = body_site_step_1_user_prompt.format(input_text=\"Constipation\".replace(\"_\", \" \"))"
   ]
  },
  {
   "cell_type": "code",
   "execution_count": null,
   "metadata": {},
   "outputs": [],
   "source": [
    "# \"You should return the\n",
    "# correct SNOMED term for the input, or several options if the condition involves\n",
    "# several parts of the body.\"\""
   ]
  },
  {
   "cell_type": "code",
   "execution_count": null,
   "metadata": {},
   "outputs": [
    {
     "data": {
      "text/plain": [
       "'Structure of entire gastrointestinal tract'"
      ]
     },
     "execution_count": 74,
     "metadata": {},
     "output_type": "execute_result"
    }
   ],
   "source": [
    "message = client.messages.create(\n",
    "    model= \"claude-3-5-sonnet-20241022\", #\"claude-3-5-sonnet-20241022\", #\"claude-3-5-haiku-20241022\"\n",
    "    max_tokens=500,\n",
    "    temperature=0,\n",
    "    system=body_site_step_1_system_prompt,\n",
    "    messages=[\n",
    "        {\n",
    "            \"role\": \"user\",\n",
    "            \"content\": [\n",
    "                {\n",
    "                    \"type\": \"text\",\n",
    "                    \"text\": body_site_step_1_user_prompt_formatted\n",
    "                }\n",
    "            ]\n",
    "        }\n",
    "    ]\n",
    ")\n",
    "body_site_answer = message.content[0].text\n",
    "body_site_answer"
   ]
  },
  {
   "cell_type": "code",
   "execution_count": 76,
   "metadata": {},
   "outputs": [
    {
     "data": {
      "text/plain": [
       "[SearchResult(text='{\"Value Set Name\": \"Body Site Value Set\", \"Description\": \"Gastrointestinal tract structure (body structure)\", \"Purpose: Clinical Focus\": \"All SNOMED CT anatomic structures, locations, abnormal structures that can be considered to describe an anatomical site.\"}', metadata={'Code': 122865005.0, 'Description': 'Gastrointestinal tract structure (body structure)', 'Purpose: Clinical Focus': 'All SNOMED CT anatomic structures, locations, abnormal structures that can be considered to describe an anatomical site.', 'Value Set Name': 'Body Site Value Set'}, score=None)]"
      ]
     },
     "execution_count": 76,
     "metadata": {},
     "output_type": "execute_result"
    }
   ],
   "source": [
    "body_site_snomed_entry = snomed_store.search(body_site_answer, search_kwargs={\"k\": 1})\n",
    "body_site_snomed_entry"
   ]
  },
  {
   "cell_type": "code",
   "execution_count": null,
   "metadata": {},
   "outputs": [
    {
     "data": {
      "text/plain": [
       "{'Code': 122865005.0,\n",
       " 'Description': 'Gastrointestinal tract structure (body structure)',\n",
       " 'Purpose: Clinical Focus': 'All SNOMED CT anatomic structures, locations, abnormal structures that can be considered to describe an anatomical site.',\n",
       " 'Value Set Name': 'Body Site Value Set'}"
      ]
     },
     "execution_count": 88,
     "metadata": {},
     "output_type": "execute_result"
    }
   ],
   "source": [
    "body_site_snomed_entry[0].metadata"
   ]
  },
  {
   "cell_type": "code",
   "execution_count": 89,
   "metadata": {},
   "outputs": [
    {
     "data": {
      "text/plain": [
       "'Gastrointestinal tract structure (body structure)'"
      ]
     },
     "execution_count": 89,
     "metadata": {},
     "output_type": "execute_result"
    }
   ],
   "source": [
    "body_site_snomed_entry[0].metadata[\"Description\"]"
   ]
  },
  {
   "cell_type": "code",
   "execution_count": 90,
   "metadata": {},
   "outputs": [
    {
     "data": {
      "text/plain": [
       "122865005.0"
      ]
     },
     "execution_count": 90,
     "metadata": {},
     "output_type": "execute_result"
    }
   ],
   "source": [
    "body_site_snomed_entry[0].metadata[\"Code\"]"
   ]
  },
  {
   "cell_type": "code",
   "execution_count": null,
   "metadata": {},
   "outputs": [],
   "source": [
    "# TODO add filtering for body site"
   ]
  },
  {
   "cell_type": "markdown",
   "metadata": {},
   "source": [
    "Examine the data"
   ]
  },
  {
   "cell_type": "code",
   "execution_count": 54,
   "metadata": {},
   "outputs": [],
   "source": [
    "import pandas as pd"
   ]
  },
  {
   "cell_type": "code",
   "execution_count": 59,
   "metadata": {},
   "outputs": [],
   "source": [
    "df = pd.read_csv(\"/Users/hanna/openfn/ai_experiments/data/SNOMED-CT-Code-Value-Semantic-Set/SNOMED-CT-Code-Value-Semantic-Set.csv\")\n",
    "df_body = df[df[\"Value Set Name\"]==\"Body Site Value Set\"] \n",
    "df_body.to_csv(\"/Users/hanna/openfn/ai_experiments/data/SNOMED-CT-Code-Value-Semantic-Set/SNOMED-CT-Code-Value-Semantic-Set_body_site.csv\", index=False)"
   ]
  },
  {
   "cell_type": "code",
   "execution_count": 60,
   "metadata": {},
   "outputs": [
    {
     "data": {
      "text/html": [
       "<div>\n",
       "<style scoped>\n",
       "    .dataframe tbody tr th:only-of-type {\n",
       "        vertical-align: middle;\n",
       "    }\n",
       "\n",
       "    .dataframe tbody tr th {\n",
       "        vertical-align: top;\n",
       "    }\n",
       "\n",
       "    .dataframe thead th {\n",
       "        text-align: right;\n",
       "    }\n",
       "</style>\n",
       "<table border=\"1\" class=\"dataframe\">\n",
       "  <thead>\n",
       "    <tr style=\"text-align: right;\">\n",
       "      <th></th>\n",
       "      <th>Code System</th>\n",
       "      <th>Value Set Name</th>\n",
       "      <th>Code</th>\n",
       "      <th>Description</th>\n",
       "      <th>Purpose: Clinical Focus</th>\n",
       "      <th>Value Set OID</th>\n",
       "      <th>Code System OID</th>\n",
       "    </tr>\n",
       "  </thead>\n",
       "  <tbody>\n",
       "    <tr>\n",
       "      <th>281</th>\n",
       "      <td>SNOMEDCT</td>\n",
       "      <td>Body Site Value Set</td>\n",
       "      <td>91747007</td>\n",
       "      <td>Structure of lumen of blood vessel (body struc...</td>\n",
       "      <td>All SNOMED CT anatomic structures, locations, ...</td>\n",
       "      <td>2.16.840.1.113883.3.88.12.3221.8.9</td>\n",
       "      <td>2.16.840.1.113883.6.96</td>\n",
       "    </tr>\n",
       "    <tr>\n",
       "      <th>755</th>\n",
       "      <td>SNOMEDCT</td>\n",
       "      <td>Body Site Value Set</td>\n",
       "      <td>89615005</td>\n",
       "      <td>Abnormal cellular component of blood (morpholo...</td>\n",
       "      <td>All SNOMED CT anatomic structures, locations, ...</td>\n",
       "      <td>2.16.840.1.113883.3.88.12.3221.8.9</td>\n",
       "      <td>2.16.840.1.113883.6.96</td>\n",
       "    </tr>\n",
       "    <tr>\n",
       "      <th>1142</th>\n",
       "      <td>SNOMEDCT</td>\n",
       "      <td>Body Site Value Set</td>\n",
       "      <td>871850003</td>\n",
       "      <td>Entire blood vessel within duodenum (body stru...</td>\n",
       "      <td>All SNOMED CT anatomic structures, locations, ...</td>\n",
       "      <td>2.16.840.1.113883.3.88.12.3221.8.9</td>\n",
       "      <td>2.16.840.1.113883.6.96</td>\n",
       "    </tr>\n",
       "    <tr>\n",
       "      <th>1143</th>\n",
       "      <td>SNOMEDCT</td>\n",
       "      <td>Body Site Value Set</td>\n",
       "      <td>871851004</td>\n",
       "      <td>Structure of blood vessel within esophagus (bo...</td>\n",
       "      <td>All SNOMED CT anatomic structures, locations, ...</td>\n",
       "      <td>2.16.840.1.113883.3.88.12.3221.8.9</td>\n",
       "      <td>2.16.840.1.113883.6.96</td>\n",
       "    </tr>\n",
       "    <tr>\n",
       "      <th>1144</th>\n",
       "      <td>SNOMEDCT</td>\n",
       "      <td>Body Site Value Set</td>\n",
       "      <td>871852006</td>\n",
       "      <td>Entire blood vessel within esophagus (body str...</td>\n",
       "      <td>All SNOMED CT anatomic structures, locations, ...</td>\n",
       "      <td>2.16.840.1.113883.3.88.12.3221.8.9</td>\n",
       "      <td>2.16.840.1.113883.6.96</td>\n",
       "    </tr>\n",
       "    <tr>\n",
       "      <th>...</th>\n",
       "      <td>...</td>\n",
       "      <td>...</td>\n",
       "      <td>...</td>\n",
       "      <td>...</td>\n",
       "      <td>...</td>\n",
       "      <td>...</td>\n",
       "      <td>...</td>\n",
       "    </tr>\n",
       "    <tr>\n",
       "      <th>38983</th>\n",
       "      <td>SNOMEDCT</td>\n",
       "      <td>Body Site Value Set</td>\n",
       "      <td>1149178005</td>\n",
       "      <td>Entire blood vessel in colonic submucosa and c...</td>\n",
       "      <td>All SNOMED CT anatomic structures, locations, ...</td>\n",
       "      <td>2.16.840.1.113883.3.88.12.3221.8.9</td>\n",
       "      <td>2.16.840.1.113883.6.96</td>\n",
       "    </tr>\n",
       "    <tr>\n",
       "      <th>38984</th>\n",
       "      <td>SNOMEDCT</td>\n",
       "      <td>Body Site Value Set</td>\n",
       "      <td>1149179002</td>\n",
       "      <td>Structure of lymphatic vessel and/or small blo...</td>\n",
       "      <td>All SNOMED CT anatomic structures, locations, ...</td>\n",
       "      <td>2.16.840.1.113883.3.88.12.3221.8.9</td>\n",
       "      <td>2.16.840.1.113883.6.96</td>\n",
       "    </tr>\n",
       "    <tr>\n",
       "      <th>38985</th>\n",
       "      <td>SNOMEDCT</td>\n",
       "      <td>Body Site Value Set</td>\n",
       "      <td>1149181000</td>\n",
       "      <td>Entire lymphatic vessel and small blood vessel...</td>\n",
       "      <td>All SNOMED CT anatomic structures, locations, ...</td>\n",
       "      <td>2.16.840.1.113883.3.88.12.3221.8.9</td>\n",
       "      <td>2.16.840.1.113883.6.96</td>\n",
       "    </tr>\n",
       "    <tr>\n",
       "      <th>39464</th>\n",
       "      <td>SNOMEDCT</td>\n",
       "      <td>Body Site Value Set</td>\n",
       "      <td>111014003</td>\n",
       "      <td>Dual red blood cell population (morphologic ab...</td>\n",
       "      <td>All SNOMED CT anatomic structures, locations, ...</td>\n",
       "      <td>2.16.840.1.113883.3.88.12.3221.8.9</td>\n",
       "      <td>2.16.840.1.113883.6.96</td>\n",
       "    </tr>\n",
       "    <tr>\n",
       "      <th>39553</th>\n",
       "      <td>SNOMEDCT</td>\n",
       "      <td>Body Site Value Set</td>\n",
       "      <td>110747008</td>\n",
       "      <td>Blood vessel and blood vessel (combined site) ...</td>\n",
       "      <td>All SNOMED CT anatomic structures, locations, ...</td>\n",
       "      <td>2.16.840.1.113883.3.88.12.3221.8.9</td>\n",
       "      <td>2.16.840.1.113883.6.96</td>\n",
       "    </tr>\n",
       "  </tbody>\n",
       "</table>\n",
       "<p>168 rows × 7 columns</p>\n",
       "</div>"
      ],
      "text/plain": [
       "      Code System       Value Set Name        Code  \\\n",
       "281      SNOMEDCT  Body Site Value Set    91747007   \n",
       "755      SNOMEDCT  Body Site Value Set    89615005   \n",
       "1142     SNOMEDCT  Body Site Value Set   871850003   \n",
       "1143     SNOMEDCT  Body Site Value Set   871851004   \n",
       "1144     SNOMEDCT  Body Site Value Set   871852006   \n",
       "...           ...                  ...         ...   \n",
       "38983    SNOMEDCT  Body Site Value Set  1149178005   \n",
       "38984    SNOMEDCT  Body Site Value Set  1149179002   \n",
       "38985    SNOMEDCT  Body Site Value Set  1149181000   \n",
       "39464    SNOMEDCT  Body Site Value Set   111014003   \n",
       "39553    SNOMEDCT  Body Site Value Set   110747008   \n",
       "\n",
       "                                             Description  \\\n",
       "281    Structure of lumen of blood vessel (body struc...   \n",
       "755    Abnormal cellular component of blood (morpholo...   \n",
       "1142   Entire blood vessel within duodenum (body stru...   \n",
       "1143   Structure of blood vessel within esophagus (bo...   \n",
       "1144   Entire blood vessel within esophagus (body str...   \n",
       "...                                                  ...   \n",
       "38983  Entire blood vessel in colonic submucosa and c...   \n",
       "38984  Structure of lymphatic vessel and/or small blo...   \n",
       "38985  Entire lymphatic vessel and small blood vessel...   \n",
       "39464  Dual red blood cell population (morphologic ab...   \n",
       "39553  Blood vessel and blood vessel (combined site) ...   \n",
       "\n",
       "                                 Purpose: Clinical Focus  \\\n",
       "281    All SNOMED CT anatomic structures, locations, ...   \n",
       "755    All SNOMED CT anatomic structures, locations, ...   \n",
       "1142   All SNOMED CT anatomic structures, locations, ...   \n",
       "1143   All SNOMED CT anatomic structures, locations, ...   \n",
       "1144   All SNOMED CT anatomic structures, locations, ...   \n",
       "...                                                  ...   \n",
       "38983  All SNOMED CT anatomic structures, locations, ...   \n",
       "38984  All SNOMED CT anatomic structures, locations, ...   \n",
       "38985  All SNOMED CT anatomic structures, locations, ...   \n",
       "39464  All SNOMED CT anatomic structures, locations, ...   \n",
       "39553  All SNOMED CT anatomic structures, locations, ...   \n",
       "\n",
       "                            Value Set OID         Code System OID  \n",
       "281    2.16.840.1.113883.3.88.12.3221.8.9  2.16.840.1.113883.6.96  \n",
       "755    2.16.840.1.113883.3.88.12.3221.8.9  2.16.840.1.113883.6.96  \n",
       "1142   2.16.840.1.113883.3.88.12.3221.8.9  2.16.840.1.113883.6.96  \n",
       "1143   2.16.840.1.113883.3.88.12.3221.8.9  2.16.840.1.113883.6.96  \n",
       "1144   2.16.840.1.113883.3.88.12.3221.8.9  2.16.840.1.113883.6.96  \n",
       "...                                   ...                     ...  \n",
       "38983  2.16.840.1.113883.3.88.12.3221.8.9  2.16.840.1.113883.6.96  \n",
       "38984  2.16.840.1.113883.3.88.12.3221.8.9  2.16.840.1.113883.6.96  \n",
       "38985  2.16.840.1.113883.3.88.12.3221.8.9  2.16.840.1.113883.6.96  \n",
       "39464  2.16.840.1.113883.3.88.12.3221.8.9  2.16.840.1.113883.6.96  \n",
       "39553  2.16.840.1.113883.3.88.12.3221.8.9  2.16.840.1.113883.6.96  \n",
       "\n",
       "[168 rows x 7 columns]"
      ]
     },
     "execution_count": 60,
     "metadata": {},
     "output_type": "execute_result"
    }
   ],
   "source": [
    "df_body[df_body[\"Description\"].str.contains(\"blood\")]"
   ]
  },
  {
   "cell_type": "code",
   "execution_count": 115,
   "metadata": {},
   "outputs": [],
   "source": [
    "del df"
   ]
  }
 ],
 "metadata": {
  "kernelspec": {
   "display_name": "openfn",
   "language": "python",
   "name": "python3"
  },
  "language_info": {
   "codemirror_mode": {
    "name": "ipython",
    "version": 3
   },
   "file_extension": ".py",
   "mimetype": "text/x-python",
   "name": "python",
   "nbconvert_exporter": "python",
   "pygments_lexer": "ipython3",
   "version": "3.11.10"
  }
 },
 "nbformat": 4,
 "nbformat_minor": 2
}
