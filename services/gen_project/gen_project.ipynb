{
 "cells": [
  {
   "cell_type": "code",
   "execution_count": 1,
   "metadata": {},
   "outputs": [
    {
     "name": "stdout",
     "output_type": "stream",
     "text": [
      "/Users/hanna/openfn/ai_experiments/apollo/services\n"
     ]
    }
   ],
   "source": [
    "import sys\n",
    "import os\n",
    "\n",
    "# Add the parent directory to sys.path\n",
    "parent_dir = os.path.abspath(\"../\")\n",
    "print(parent_dir)\n",
    "sys.path.append(parent_dir)\n"
   ]
  },
  {
   "cell_type": "code",
   "execution_count": 3,
   "metadata": {},
   "outputs": [],
   "source": [
    "from langchain.output_parsers import StructuredOutputParser, ResponseSchema\n",
    "import os\n",
    "import json\n",
    "from dotenv import load_dotenv\n",
    "import anthropic\n",
    "\n",
    "load_dotenv()\n",
    "ANTHROPIC_API_KEY = os.getenv(\"ANTHROPIC_API_KEY\")\n",
    "client = anthropic.Anthropic(api_key=ANTHROPIC_API_KEY)"
   ]
  },
  {
   "cell_type": "code",
   "execution_count": 6,
   "metadata": {},
   "outputs": [],
   "source": [
    "from embed_docsite.github_utils import get_docs\n",
    "import re\n"
   ]
  },
  {
   "cell_type": "code",
   "execution_count": 7,
   "metadata": {},
   "outputs": [
    {
     "name": "stdout",
     "output_type": "stream",
     "text": [
      "INFO:GitHubUtils:Fetched 59 URLs from GitHub for https://api.github.com/repos/OpenFn/docs/contents/adaptors\n",
      "INFO:GitHubUtils:Downloaded and processed 59 files from GitHub\n",
      "INFO:GitHubUtils:{'name': 'asana.md', 'docs': '---\\ntitle: Asana Adaptor\\n---\\n\\n## About Asana\\n\\n[Asana](https://app.asana.com/) is a web-based project management tool that helps teams organize, plan, collaborate, and execute tasks. \\n\\n## Integration Options\\n\\nAsana supports 2 primary integration options:\\n\\n1. Rest API: Asana has an available REST API that enables external services like OpenFn to pull data from Asana, or push data from external apps to Asana. This option is suited for scheduled, bulk syncs or workflows that must update data in Asana with external information. See [functions](/adaptors/packages/asana-docs) for more on how to use this adaptor to work with the API.\\n\\n2. Webhook: Asana also has a [Webhook or Data Forwarding](https://developers.asana.com/docs/webhooks-guide) to push data from Asana to external systems. This option is suited for real-time, event-based data integration. Check out the Asana [developer documentation](/adaptors/packages/asana-docs) to learn how to set up a webhook to push data to OpenFn.\\n\\n## Authentication\\n\\nSee [Asana docs](https://developers.asana.com/docs/authentication) for the latest on supported authentication methods. \\n\\nWhen integrating with Asana via OpenFn, there is one primary authentication method that is supported: **Personal Access Token (PAT)**. You can generate a personal access token from the Asana [developer console](https://developers.asana.com/docs/personal-access-token).\\n\\nSee this adaptor\\'s [Configuration docs](/adaptors/packages/asana-configuration-schema) for more on the required authentication parameters.\\n\\nSee platform docs on [managing credentials](/documentation/manage-projects/manage-credentials) for how to configure a credential in OpenFn. If working locally or if using a Raw JSON credential type, then your configuration will look something like this:\\n\\n```\\n{\\n  \"apiVersion\": \"1.0\",\\n  \"token\": \"sample-tokenyWSJdXBACMLLWMNGgADFA\"\\n}\\n```\\n\\n### Helpful Links\\n\\n1. [API documentation](https://developers.asana.com/docs/overview)\\n\\n### Implementation Examples\\n\\n1. The Wildlife Conservation Society (WCS) - KoboToolBox -> GoogleSheets -> Asana sync: [https://openfn.github.io/ConSoSci/asana/](https://openfn.github.io/ConSoSci/asana/)\\n\\n\\n\\n\\n'}\n"
     ]
    }
   ],
   "source": [
    "docs = get_docs(\"adaptor_docs\")"
   ]
  },
  {
   "cell_type": "code",
   "execution_count": 11,
   "metadata": {},
   "outputs": [],
   "source": [
    "import pickle\n",
    "with open('/Users/hanna/openfn/ai_experiments/data/adaptor_docs.pkl', 'wb') as file:\n",
    "    pickle.dump(docs, file)"
   ]
  },
  {
   "cell_type": "code",
   "execution_count": 13,
   "metadata": {},
   "outputs": [
    {
     "data": {
      "text/plain": [
       "['---\\ntitle: Asana Adaptor\\n---',\n",
       " '## About Asana\\n\\n[Asana](https://app.asana.com/) is a web-based project management tool that helps teams organize, plan, collaborate, and execute tasks.',\n",
       " '## Integration Options\\n\\nAsana supports 2 primary integration options:\\n\\n1. Rest API: Asana has an available REST API that enables external services like OpenFn to pull data from Asana, or push data from external apps to Asana. This option is suited for scheduled, bulk syncs or workflows that must update data in Asana with external information. See [functions](/adaptors/packages/asana-docs) for more on how to use this adaptor to work with the API.\\n\\n2. Webhook: Asana also has a [Webhook or Data Forwarding](https://developers.asana.com/docs/webhooks-guide) to push data from Asana to external systems. This option is suited for real-time, event-based data integration. Check out the Asana [developer documentation](/adaptors/packages/asana-docs) to learn how to set up a webhook to push data to OpenFn.',\n",
       " \"## Authentication\\n\\nSee [Asana docs](https://developers.asana.com/docs/authentication) for the latest on supported authentication methods. \\n\\nWhen integrating with Asana via OpenFn, there is one primary authentication method that is supported: **Personal Access Token (PAT)**. You can generate a personal access token from the Asana [developer console](https://developers.asana.com/docs/personal-access-token).\\n\\nSee this adaptor's [Configuration docs](/adaptors/packages/asana-configuration-schema) for more on the required authentication parameters.\\n\\nSee platform docs on [managing credentials](/documentation/manage-projects/manage-credentials) for how to configure a credential in OpenFn. If working locally or if using a Raw JSON credential type, then your configuration will look something like this:\",\n",
       " '```\\n{\\n  \"apiVersion\": \"1.0\",\\n  \"token\": \"sample-tokenyWSJdXBACMLLWMNGgADFA\"\\n}\\n```',\n",
       " '### Helpful Links\\n\\n1. [API documentation](https://developers.asana.com/docs/overview)',\n",
       " '### Implementation Examples\\n\\n1. The Wildlife Conservation Society (WCS) - KoboToolBox -> GoogleSheets -> Asana sync: [https://openfn.github.io/ConSoSci/asana/](https://openfn.github.io/ConSoSci/asana/)']"
      ]
     },
     "execution_count": 13,
     "metadata": {},
     "output_type": "execute_result"
    }
   ],
   "source": [
    "d = clean_html(docs[0][\"docs\"])\n",
    "d = split_by_headers(d)\n",
    "d"
   ]
  },
  {
   "cell_type": "code",
   "execution_count": 12,
   "metadata": {},
   "outputs": [],
   "source": [
    "\n",
    "def clean_html(text):\n",
    "    \"\"\"Remove HTML tags while preserving essential formatting.\"\"\"\n",
    "    text = re.sub(r'<\\/?p>', '\\n', text)  # Convert <p> to newlines\n",
    "    text = re.sub(r'<\\/?code>', '`', text)  # Convert <code> to backticks\n",
    "    text = re.sub(r'<\\/?strong>', '**', text)  # Convert <strong> to bold\n",
    "    text = re.sub(r'<[^>]+>', '', text)  # Remove other HTML tags\n",
    "\n",
    "    return text.strip()\n",
    "\n",
    "def split_by_headers(text):\n",
    "    \"\"\"Split text into chunks based on Markdown headers (# and ##) and code blocks.\"\"\"\n",
    "    sections = re.split(r'(?=^#+\\s.*$|^```(?:.*\\n[\\s\\S]*?^```))', text, flags=re.MULTILINE)\n",
    "\n",
    "    return [chunk.strip() for chunk in sections if chunk.strip()]\n",
    "\n",
    "def get_overview(json_data):\n",
    "    for item in json_data:\n",
    "        if isinstance(item, dict) and \"docs\" in item and \"name\" in item:\n",
    "            \n",
    "            docs = item[\"docs\"]\n",
    "            name = item[\"name\"]\n",
    "\n",
    "            # Decode JSON string\n",
    "            try:\n",
    "                docs = json.loads(docs)\n",
    "            except json.JSONDecodeError:\n",
    "                pass\n",
    "            \n",
    "            docs = clean_html(docs)\n",
    "\n",
    "            # Save all fields for adding to metadata later\n",
    "            item[\"docs\"] = docs # replace docs with cleaned text\n",
    "            metadata_dict[name] = item\n",
    "\n",
    "            # Split by headers, and where needed, sentences\n",
    "            splits = split_by_headers(docs)"
   ]
  },
  {
   "cell_type": "code",
   "execution_count": 4,
   "metadata": {},
   "outputs": [],
   "source": [
    "# compile list of adaptors with descriptions (offline)\n",
    "\n",
    "describe_adaptor_system_prompt = \"\"\"\n",
    "You are an assistant for writing brief descriptions of adaptors offered by OpenFn, a workflow generation platform.\n",
    "The summary will be used to help select appropriate adaptors for clients' desriptions of their automation tasks.\n",
    "Relevant information might therefore include e.g. the purpose of the adaptor and the data formats it uses.\n",
    "You will be given the name of an adaptor and the overview section from its documentation.\n",
    "Answer with nothing but the name of the adaptor followed by a colon and a 2-3 sentence description.\n",
    "\"\"\"\n",
    "\n",
    "describe_adaptor_user_prompt = \"\"\"The adaptor to describe: \"{adaptor_name}\" \\n The adaptor documentation: {documentation} \"\"\"\n",
    "\n",
    "def describe_adaptor(user_question):\n",
    "    message = client.messages.create(\n",
    "        model=\"claude-3-7-sonnet-20250219\", \n",
    "        max_tokens=1000,\n",
    "        temperature=0,\n",
    "        system=describe_adaptor_system_prompt,\n",
    "        messages=[\n",
    "            {\n",
    "                \"role\": \"user\",\n",
    "                \"content\": [\n",
    "                    {\n",
    "                        \"type\": \"text\",\n",
    "                        \"text\": describe_adaptor_user_prompt.format(user_question=user_question)\n",
    "                    }\n",
    "                ]\n",
    "            }\n",
    "        ]\n",
    "    )\n",
    "    return message.content[0].text"
   ]
  },
  {
   "cell_type": "code",
   "execution_count": null,
   "metadata": {},
   "outputs": [],
   "source": [
    "adaptor_summaries = \"\"\"\n",
    "\n",
    "\"\"\""
   ]
  },
  {
   "cell_type": "code",
   "execution_count": null,
   "metadata": {},
   "outputs": [],
   "source": [
    "gen_yaml_system_prompt = \"\"\"\n",
    "# OpenFn Workflow Generator Prompt\n",
    "\n",
    "You are an expert assistant for the OpenFn workflow automation platform. Your task is to convert natural language descriptions of workflows into properly structured YAML files that define workflow jobs, triggers, and connections.\n",
    "\n",
    "## Your Task\n",
    "\n",
    "Given a text description of a workflow process, you will:\n",
    "1. Identify distinct jobs/steps in the workflow\n",
    "2. Determine appropriate adaptors for each job\n",
    "3. Set up proper trigger mechanisms (webhook or cron)\n",
    "4. Create the connections (edges) between jobs\n",
    "5. Generate a valid project.yaml file that follows OpenFn's structure\n",
    "\n",
    "## OpenFn Project.yaml Structure\n",
    "\n",
    "A valid project.yaml must follow this structure:\n",
    "```yaml\n",
    "workflow-1:\n",
    "  name: [Workflow Name]\n",
    "  jobs:\n",
    "    [job-id]:\n",
    "      name: [Job Name]\n",
    "      adaptor: [Adaptor Reference]\n",
    "      body: \"| // Add operations here\"\n",
    "  triggers:\n",
    "    [trigger-id]:\n",
    "      type: [webhook or cron]\n",
    "      cron: [cron expression] # Only if type is cron\n",
    "      enabled: true\n",
    "  edges:\n",
    "    - source_trigger: [trigger-id]\n",
    "      target_job: [job-id]\n",
    "      condition_type: always\n",
    "      enabled: true\n",
    "    - source_job: [source-job-id]\n",
    "      target_job: [target-job-id]\n",
    "      condition_type: on_job_success\n",
    "      enabled: true\n",
    "name: open-project\n",
    "description: Auto-generated workflow based on provided steps.\n",
    "```\n",
    "\n",
    "## Adaptor Knowledge\n",
    "\n",
    "Here is a list of available OpenFn adaptors:\n",
    "{adaptor_list}\n",
    "- `@openfn/language-common@latest`: For basic data transformation operations\n",
    "- `@openfn/language-http@latest`: For making HTTP requests\n",
    "- `@openfn/language-commcare@latest`: For interacting with CommCare\n",
    "- `@openfn/language-fhir@latest`: For FHIR healthcare standards\n",
    "- `@openfn/language-satusehat@latest`: For Satusehat system (health records)\n",
    "- `@openfn/language-redis@latest`: For Redis operations\n",
    "- `@openfn/language-openfn@latest`: For triggering other OpenFn workflows\n",
    "\n",
    "## Trigger Types\n",
    "\n",
    "- **Webhook**: Use for event-based triggers (default if not specified)\n",
    "- **Cron**: Use for time-based schedules\n",
    "\n",
    "## Rules for Job Identification\n",
    "\n",
    "1. Each distinct action should become its own job\n",
    "2. Jobs should have clear, descriptive names\n",
    "3. Jobs should be connected in a logical sequence\n",
    "4. Choose the most specific adaptor available for each operation\n",
    "5. When in doubt about an adaptor, use `@openfn/language-common@latest`\n",
    "6. Job IDs should be derived from their names, replacing spaces with hyphens\n",
    "\n",
    "## Rules for Edge Creation\n",
    "\n",
    "1. The first job should always connect to the trigger\n",
    "2. Each subsequent job should connect to the previous job with condition_type: on_job_success\n",
    "3. For branching workflows, create conditional edges as appropriate\n",
    "4. All edges should be enabled by default\n",
    "\n",
    "## Example Conversion\n",
    "\n",
    "For the input:\n",
    "\"Fetch patient data from CommCare daily and send it to our FHIR system\"\n",
    "\n",
    "The output should be:\n",
    "```yaml\n",
    "workflow-1:\n",
    "  name: Fetch Patient Data Workflow\n",
    "  jobs:\n",
    "    fetch-patient-data:\n",
    "      name: Fetch patient data from CommCare\n",
    "      adaptor: \"@openfn/language-commcare@latest\"\n",
    "      body: \"| // Add operations here\"\n",
    "    send-to-fhir:\n",
    "      name: Send data to FHIR system\n",
    "      adaptor: \"@openfn/language-fhir@latest\"\n",
    "      body: \"| // Add operations here\"\n",
    "  triggers:\n",
    "    daily-schedule:\n",
    "      type: cron\n",
    "      cron: \"0 0 * * *\"\n",
    "      enabled: true\n",
    "  edges:\n",
    "    - source_trigger: daily-schedule\n",
    "      target_job: fetch-patient-data\n",
    "      condition_type: always\n",
    "      enabled: true\n",
    "    - source_job: fetch-patient-data\n",
    "      target_job: send-to-fhir\n",
    "      condition_type: on_job_success\n",
    "      enabled: true\n",
    "name: open-project\n",
    "description: Auto-generated workflow based on provided steps.\n",
    "```\n",
    "\n",
    "## Output Format\n",
    "\n",
    "You MUST provide the output as a proper YAML file that follows the structure above. Do not include any explanations or commentary.\n",
    "\"\"\""
   ]
  },
  {
   "cell_type": "code",
   "execution_count": null,
   "metadata": {},
   "outputs": [],
   "source": [
    "gen_yaml_system_prompt_formatted = gen_yaml_system_prompt.format(adaptor_summaries)"
   ]
  },
  {
   "cell_type": "code",
   "execution_count": null,
   "metadata": {},
   "outputs": [],
   "source": [
    "\n",
    "generate_yaml_user_prompt = \"\"\"The user's automation task is as follows: \"{user_question}\" \"\"\"\n",
    "\n",
    "def generate_yaml(user_question):\n",
    "    message = client.messages.create(\n",
    "        model=\"claude-3-7-sonnet-20250219\",\n",
    "        max_tokens=1000,\n",
    "        temperature=0,\n",
    "        system=gen_yaml_system_prompt_formatted,\n",
    "        messages=[\n",
    "            {\n",
    "                \"role\": \"user\",\n",
    "                \"content\": [\n",
    "                    {\n",
    "                        \"type\": \"text\",\n",
    "                        \"text\": generate_yaml_user_prompt.format(user_question=user_question)\n",
    "                    }\n",
    "                ]\n",
    "            }\n",
    "        ]\n",
    "    )\n",
    "    return message.content[0].text"
   ]
  }
 ],
 "metadata": {
  "kernelspec": {
   "display_name": "openfn",
   "language": "python",
   "name": "python3"
  },
  "language_info": {
   "codemirror_mode": {
    "name": "ipython",
    "version": 3
   },
   "file_extension": ".py",
   "mimetype": "text/x-python",
   "name": "python",
   "nbconvert_exporter": "python",
   "pygments_lexer": "ipython3",
   "version": "3.11.10"
  }
 },
 "nbformat": 4,
 "nbformat_minor": 2
}
